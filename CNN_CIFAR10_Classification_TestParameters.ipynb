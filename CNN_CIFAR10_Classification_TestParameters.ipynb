{
  "nbformat": 4,
  "nbformat_minor": 0,
  "metadata": {
    "colab": {
      "provenance": [],
      "gpuType": "T4",
      "mount_file_id": "1Nk8CA3-yySSo9oSc0Fad_Hovgr-nhGZK",
      "authorship_tag": "ABX9TyPSWwwT24102+CJaob7hjR5",
      "include_colab_link": true
    },
    "kernelspec": {
      "name": "python3",
      "display_name": "Python 3"
    },
    "language_info": {
      "name": "python"
    },
    "accelerator": "GPU"
  },
  "cells": [
    {
      "cell_type": "markdown",
      "metadata": {
        "id": "view-in-github",
        "colab_type": "text"
      },
      "source": [
        "<a href=\"https://colab.research.google.com/github/mehdiabbasidev/darsman-deep-learning/blob/main/CNN_CIFAR10_Classification_TestParameters.ipynb\" target=\"_parent\"><img src=\"https://colab.research.google.com/assets/colab-badge.svg\" alt=\"Open In Colab\"/></a>"
      ]
    },
    {
      "cell_type": "code",
      "source": [
        "import numpy as np\n",
        "import tensorflow as tf\n",
        "from tensorflow.keras.models import Sequential\n",
        "from tensorflow.keras.layers import Conv2D, MaxPooling2D,AveragePooling2D, Flatten, Dense, Dropout, BatchNormalization\n",
        "from tensorflow.keras.datasets import cifar10\n",
        "from tensorflow.keras.utils import to_categorical\n",
        "from tensorflow.keras.preprocessing import image\n",
        "import matplotlib.pyplot as plt"
      ],
      "metadata": {
        "id": "d-Hu-RJ7pV3F"
      },
      "execution_count": null,
      "outputs": []
    },
    {
      "cell_type": "code",
      "source": [
        "(x_train, y_train), (x_test, y_test) = cifar10.load_data()"
      ],
      "metadata": {
        "id": "oahGKRHTpXL3"
      },
      "execution_count": null,
      "outputs": []
    },
    {
      "cell_type": "code",
      "source": [
        "print(f\"Training data shape: {x_train.shape}, Labels shape: {y_train.shape}\")\n",
        "print(f\"Test data shape: {x_test.shape}, Labels shape: {y_test.shape}\")"
      ],
      "metadata": {
        "id": "KYzMUxNUnQt0",
        "colab": {
          "base_uri": "https://localhost:8080/"
        },
        "outputId": "737ed1b5-7e82-4e61-9c08-9484c31fcbe6"
      },
      "execution_count": null,
      "outputs": [
        {
          "output_type": "stream",
          "name": "stdout",
          "text": [
            "Training data shape: (50000, 32, 32, 3), Labels shape: (50000, 1)\n",
            "Test data shape: (10000, 32, 32, 3), Labels shape: (10000, 1)\n"
          ]
        }
      ]
    },
    {
      "cell_type": "code",
      "source": [
        "print(f\"Training data: \\n{x_train[0][0]}\")\n",
        "print(f\"\\n\\nLabels: \\n{y_train[0]}\")"
      ],
      "metadata": {
        "colab": {
          "base_uri": "https://localhost:8080/"
        },
        "id": "RPWFSw9ej3kg",
        "outputId": "cbcc0e79-69d4-4592-e60a-1fa9cd496bd6"
      },
      "execution_count": null,
      "outputs": [
        {
          "output_type": "stream",
          "name": "stdout",
          "text": [
            "Training data: \n",
            "[[ 59  62  63]\n",
            " [ 43  46  45]\n",
            " [ 50  48  43]\n",
            " [ 68  54  42]\n",
            " [ 98  73  52]\n",
            " [119  91  63]\n",
            " [139 107  75]\n",
            " [145 110  80]\n",
            " [149 117  89]\n",
            " [149 120  93]\n",
            " [131 103  77]\n",
            " [125  99  76]\n",
            " [142 115  91]\n",
            " [144 112  86]\n",
            " [137 105  79]\n",
            " [129  97  71]\n",
            " [137 106  79]\n",
            " [134 106  76]\n",
            " [124  97  64]\n",
            " [139 113  78]\n",
            " [139 112  75]\n",
            " [133 105  69]\n",
            " [136 105  74]\n",
            " [139 108  77]\n",
            " [152 120  89]\n",
            " [163 131 100]\n",
            " [168 136 108]\n",
            " [159 129 102]\n",
            " [158 130 104]\n",
            " [158 132 108]\n",
            " [152 125 102]\n",
            " [148 124 103]]\n",
            "\n",
            "\n",
            "Labels: \n",
            "[6]\n"
          ]
        }
      ]
    },
    {
      "cell_type": "code",
      "source": [
        "x_train, x_test = x_train / 255.0, x_test / 255.0"
      ],
      "metadata": {
        "id": "ICuBuGBfnMyO"
      },
      "execution_count": null,
      "outputs": []
    },
    {
      "cell_type": "code",
      "source": [
        "print(f\"Training data: \\n{x_train[0][0]}\")\n",
        "print(f\"\\n\\nLabels: \\n{y_train[0]}\")"
      ],
      "metadata": {
        "id": "E7G61bVzLSrH",
        "colab": {
          "base_uri": "https://localhost:8080/"
        },
        "outputId": "4bf837b0-8af3-4ccd-d8b0-28fdd35b2192"
      },
      "execution_count": null,
      "outputs": [
        {
          "output_type": "stream",
          "name": "stdout",
          "text": [
            "Training data: \n",
            "[[0.23137255 0.24313725 0.24705882]\n",
            " [0.16862745 0.18039216 0.17647059]\n",
            " [0.19607843 0.18823529 0.16862745]\n",
            " [0.26666667 0.21176471 0.16470588]\n",
            " [0.38431373 0.28627451 0.20392157]\n",
            " [0.46666667 0.35686275 0.24705882]\n",
            " [0.54509804 0.41960784 0.29411765]\n",
            " [0.56862745 0.43137255 0.31372549]\n",
            " [0.58431373 0.45882353 0.34901961]\n",
            " [0.58431373 0.47058824 0.36470588]\n",
            " [0.51372549 0.40392157 0.30196078]\n",
            " [0.49019608 0.38823529 0.29803922]\n",
            " [0.55686275 0.45098039 0.35686275]\n",
            " [0.56470588 0.43921569 0.3372549 ]\n",
            " [0.5372549  0.41176471 0.30980392]\n",
            " [0.50588235 0.38039216 0.27843137]\n",
            " [0.5372549  0.41568627 0.30980392]\n",
            " [0.5254902  0.41568627 0.29803922]\n",
            " [0.48627451 0.38039216 0.25098039]\n",
            " [0.54509804 0.44313725 0.30588235]\n",
            " [0.54509804 0.43921569 0.29411765]\n",
            " [0.52156863 0.41176471 0.27058824]\n",
            " [0.53333333 0.41176471 0.29019608]\n",
            " [0.54509804 0.42352941 0.30196078]\n",
            " [0.59607843 0.47058824 0.34901961]\n",
            " [0.63921569 0.51372549 0.39215686]\n",
            " [0.65882353 0.53333333 0.42352941]\n",
            " [0.62352941 0.50588235 0.4       ]\n",
            " [0.61960784 0.50980392 0.40784314]\n",
            " [0.61960784 0.51764706 0.42352941]\n",
            " [0.59607843 0.49019608 0.4       ]\n",
            " [0.58039216 0.48627451 0.40392157]]\n",
            "\n",
            "\n",
            "Labels: \n",
            "[6]\n"
          ]
        }
      ]
    },
    {
      "cell_type": "code",
      "source": [
        "y_train = to_categorical(y_train, 10)\n",
        "y_test = to_categorical(y_test, 10)"
      ],
      "metadata": {
        "id": "anqpuHasLYo_"
      },
      "execution_count": null,
      "outputs": []
    },
    {
      "cell_type": "code",
      "source": [
        "print(f\"\\n\\nTrain Labels Shape: \\n{y_train.shape}\")\n",
        "print(f\"\\n\\nTrain Labels: \\n{y_train[0]}\")\n",
        "print(f\"\\n\\nTest Labels: \\n{y_test[0]}\")"
      ],
      "metadata": {
        "id": "2irlcCt7l_4g",
        "colab": {
          "base_uri": "https://localhost:8080/"
        },
        "outputId": "eb5ad6ce-f246-48a9-cf76-3010a8aa045b"
      },
      "execution_count": null,
      "outputs": [
        {
          "output_type": "stream",
          "name": "stdout",
          "text": [
            "\n",
            "\n",
            "Train Labels Shape: \n",
            "(50000, 10)\n",
            "\n",
            "\n",
            "Train Labels: \n",
            "[0. 0. 0. 0. 0. 0. 1. 0. 0. 0.]\n",
            "\n",
            "\n",
            "Test Labels: \n",
            "[0. 0. 0. 1. 0. 0. 0. 0. 0. 0.]\n"
          ]
        }
      ]
    },
    {
      "cell_type": "code",
      "source": [
        "model = Sequential([\n",
        "    Conv2D(input_shape=(32, 32, 3),filters=96, kernel_size=(3, 3), strides=(1, 1), padding='same', activation='relu'),\n",
        "    BatchNormalization(),\n",
        "    MaxPooling2D(pool_size=(2, 2), strides=(2, 2)),\n",
        "\n",
        "    Conv2D(filters=256, kernel_size=(3, 3), strides=(1, 1), padding='same', activation='relu'),\n",
        "    BatchNormalization(),\n",
        "    MaxPooling2D(pool_size=(2, 2), strides=(2, 2)),\n",
        "\n",
        "    Conv2D(filters=384, kernel_size=(3, 3), strides=(1, 1), padding='same', activation='relu'),\n",
        "    BatchNormalization(),\n",
        "\n",
        "    Conv2D(filters=384, kernel_size=(3, 3), strides=(1, 1), padding='same', activation='relu'),\n",
        "    BatchNormalization(),\n",
        "\n",
        "    Conv2D(filters=256, kernel_size=(3, 3), strides=(1, 1), padding='same', activation='relu'),\n",
        "    BatchNormalization(),\n",
        "    MaxPooling2D(pool_size=(2, 2), strides=(2, 2)),\n",
        "\n",
        "    Flatten(),\n",
        "\n",
        "    Dense(4096, activation='relu'),\n",
        "    Dropout(0.5),\n",
        "\n",
        "    Dense(4096, activation='relu'),\n",
        "    Dropout(0.5),\n",
        "\n",
        "    Dense(10, activation='softmax')\n",
        "])"
      ],
      "metadata": {
        "id": "SDQ7JB1lplG9",
        "colab": {
          "base_uri": "https://localhost:8080/"
        },
        "outputId": "dd08df0f-eeff-4780-b140-8137628b6a3e"
      },
      "execution_count": null,
      "outputs": [
        {
          "output_type": "stream",
          "name": "stderr",
          "text": [
            "/usr/local/lib/python3.11/dist-packages/keras/src/layers/convolutional/base_conv.py:107: UserWarning: Do not pass an `input_shape`/`input_dim` argument to a layer. When using Sequential models, prefer using an `Input(shape)` object as the first layer in the model instead.\n",
            "  super().__init__(activity_regularizer=activity_regularizer, **kwargs)\n"
          ]
        }
      ]
    },
    {
      "cell_type": "code",
      "source": [
        "model.compile(optimizer='adam',\n",
        "              loss='categorical_crossentropy',\n",
        "              metrics=['accuracy'])"
      ],
      "metadata": {
        "id": "CLfKVlPGMWSP"
      },
      "execution_count": null,
      "outputs": []
    },
    {
      "cell_type": "code",
      "source": [
        "history = model.fit(x_train, y_train, epochs=10, batch_size=64, validation_data=(x_test, y_test))"
      ],
      "metadata": {
        "id": "BrIgHXTNppyW",
        "colab": {
          "base_uri": "https://localhost:8080/"
        },
        "outputId": "a6c50964-e2b6-41d2-c03c-124529bc6f62"
      },
      "execution_count": null,
      "outputs": [
        {
          "output_type": "stream",
          "name": "stdout",
          "text": [
            "Epoch 1/10\n",
            "\u001b[1m782/782\u001b[0m \u001b[32m━━━━━━━━━━━━━━━━━━━━\u001b[0m\u001b[37m\u001b[0m \u001b[1m48s\u001b[0m 45ms/step - accuracy: 0.3343 - loss: 2.7715 - val_accuracy: 0.4859 - val_loss: 1.4589\n",
            "Epoch 2/10\n",
            "\u001b[1m782/782\u001b[0m \u001b[32m━━━━━━━━━━━━━━━━━━━━\u001b[0m\u001b[37m\u001b[0m \u001b[1m68s\u001b[0m 37ms/step - accuracy: 0.5559 - loss: 1.3104 - val_accuracy: 0.5701 - val_loss: 1.2350\n",
            "Epoch 3/10\n",
            "\u001b[1m782/782\u001b[0m \u001b[32m━━━━━━━━━━━━━━━━━━━━\u001b[0m\u001b[37m\u001b[0m \u001b[1m29s\u001b[0m 38ms/step - accuracy: 0.6539 - loss: 1.0391 - val_accuracy: 0.6407 - val_loss: 1.0667\n",
            "Epoch 4/10\n",
            "\u001b[1m782/782\u001b[0m \u001b[32m━━━━━━━━━━━━━━━━━━━━\u001b[0m\u001b[37m\u001b[0m \u001b[1m40s\u001b[0m 37ms/step - accuracy: 0.7110 - loss: 0.8697 - val_accuracy: 0.6907 - val_loss: 0.9234\n",
            "Epoch 5/10\n",
            "\u001b[1m782/782\u001b[0m \u001b[32m━━━━━━━━━━━━━━━━━━━━\u001b[0m\u001b[37m\u001b[0m \u001b[1m42s\u001b[0m 38ms/step - accuracy: 0.7605 - loss: 0.7246 - val_accuracy: 0.7332 - val_loss: 0.8061\n",
            "Epoch 6/10\n",
            "\u001b[1m782/782\u001b[0m \u001b[32m━━━━━━━━━━━━━━━━━━━━\u001b[0m\u001b[37m\u001b[0m \u001b[1m41s\u001b[0m 38ms/step - accuracy: 0.8039 - loss: 0.5931 - val_accuracy: 0.7155 - val_loss: 0.8891\n",
            "Epoch 7/10\n",
            "\u001b[1m782/782\u001b[0m \u001b[32m━━━━━━━━━━━━━━━━━━━━\u001b[0m\u001b[37m\u001b[0m \u001b[1m29s\u001b[0m 37ms/step - accuracy: 0.8427 - loss: 0.4845 - val_accuracy: 0.6935 - val_loss: 0.9494\n",
            "Epoch 8/10\n",
            "\u001b[1m782/782\u001b[0m \u001b[32m━━━━━━━━━━━━━━━━━━━━\u001b[0m\u001b[37m\u001b[0m \u001b[1m41s\u001b[0m 37ms/step - accuracy: 0.8726 - loss: 0.3857 - val_accuracy: 0.7356 - val_loss: 0.8198\n",
            "Epoch 9/10\n",
            "\u001b[1m782/782\u001b[0m \u001b[32m━━━━━━━━━━━━━━━━━━━━\u001b[0m\u001b[37m\u001b[0m \u001b[1m30s\u001b[0m 38ms/step - accuracy: 0.9023 - loss: 0.3066 - val_accuracy: 0.7522 - val_loss: 0.8392\n",
            "Epoch 10/10\n",
            "\u001b[1m782/782\u001b[0m \u001b[32m━━━━━━━━━━━━━━━━━━━━\u001b[0m\u001b[37m\u001b[0m \u001b[1m40s\u001b[0m 37ms/step - accuracy: 0.9203 - loss: 0.2491 - val_accuracy: 0.8008 - val_loss: 0.6730\n"
          ]
        }
      ]
    },
    {
      "cell_type": "code",
      "source": [
        "print(history.history.keys())"
      ],
      "metadata": {
        "id": "n5ttUH6RN_wG",
        "colab": {
          "base_uri": "https://localhost:8080/"
        },
        "outputId": "cbf02834-b81c-46e8-dcf2-d3fdbd187ff5"
      },
      "execution_count": null,
      "outputs": [
        {
          "output_type": "stream",
          "name": "stdout",
          "text": [
            "dict_keys(['accuracy', 'loss', 'val_accuracy', 'val_loss'])\n"
          ]
        }
      ]
    },
    {
      "cell_type": "code",
      "source": [
        "print(history.history['accuracy'])\n",
        "print(history.history['loss'])\n",
        "print(history.history['val_accuracy'])\n",
        "print(history.history['val_loss'])"
      ],
      "metadata": {
        "id": "Di0jLBQNgi1B",
        "colab": {
          "base_uri": "https://localhost:8080/"
        },
        "outputId": "391d89c8-eaf6-4e60-d336-59238009b29a"
      },
      "execution_count": null,
      "outputs": [
        {
          "output_type": "stream",
          "name": "stdout",
          "text": [
            "[0.41269999742507935, 0.5776200294494629, 0.6635199785232544, 0.7175999879837036, 0.7646999955177307, 0.8062199950218201, 0.8393999934196472, 0.8700199723243713, 0.8931599855422974, 0.9155600070953369]\n",
            "[1.8545912504196167, 1.2486463785171509, 1.014555811882019, 0.8557204604148865, 0.714163601398468, 0.5900874137878418, 0.4937686622142792, 0.39719051122665405, 0.32931607961654663, 0.2622379958629608]\n",
            "[0.48590001463890076, 0.5701000094413757, 0.6406999826431274, 0.6906999945640564, 0.7332000136375427, 0.715499997138977, 0.6934999823570251, 0.7355999946594238, 0.7522000074386597, 0.8008000254631042]\n",
            "[1.458916425704956, 1.2349597215652466, 1.0666512250900269, 0.9233633875846863, 0.8061419725418091, 0.8891254663467407, 0.9493809342384338, 0.8197864294052124, 0.8392173051834106, 0.6729772686958313]\n"
          ]
        }
      ]
    },
    {
      "cell_type": "code",
      "source": [
        "test_loss, test_acc = model.evaluate(x_test, y_test, verbose=2)\n",
        "print(f\"Test Loss: {test_loss}\")\n",
        "print(f\"Test Accuracy: {test_acc}\")"
      ],
      "metadata": {
        "id": "mT3VCEmHpsUQ",
        "colab": {
          "base_uri": "https://localhost:8080/"
        },
        "outputId": "1e9c661b-6156-4721-ee87-017ec71fa392"
      },
      "execution_count": null,
      "outputs": [
        {
          "output_type": "stream",
          "name": "stdout",
          "text": [
            "313/313 - 3s - 10ms/step - accuracy: 0.8008 - loss: 0.6730\n",
            "Test Loss: 0.6729775667190552\n",
            "Test Accuracy: 0.8008000254631042\n"
          ]
        }
      ]
    },
    {
      "cell_type": "code",
      "execution_count": null,
      "metadata": {
        "id": "r1U_iEPXpBRO",
        "colab": {
          "base_uri": "https://localhost:8080/",
          "height": 449
        },
        "outputId": "ad1bb1f0-1350-439e-aa87-3787919a1237"
      },
      "outputs": [
        {
          "output_type": "display_data",
          "data": {
            "text/plain": [
              "<Figure size 640x480 with 1 Axes>"
            ],
            "image/png": "[encoded data removed]"
          },
          "metadata": {}
        }
      ],
      "source": [
        "plt.plot(history.history['accuracy'], label='Training Accuracy')\n",
        "plt.plot(history.history['val_accuracy'], label='Validation Accuracy')\n",
        "plt.xlabel('Epochs')\n",
        "plt.ylabel('Accuracy')\n",
        "plt.legend()\n",
        "plt.show()"
      ]
    },
    {
      "cell_type": "code",
      "source": [
        "img_path = '/content/drive/MyDrive/images/example3.jpg'\n",
        "img = image.load_img(img_path, target_size=(32, 32))"
      ],
      "metadata": {
        "id": "65swAcnrVO8g"
      },
      "execution_count": null,
      "outputs": []
    },
    {
      "cell_type": "code",
      "source": [
        "img_array = image.img_to_array(img)\n",
        "print(img_array.shape)\n",
        "\n",
        "img_array = img_array / 255.0\n",
        "\n",
        "img_array = np.expand_dims(img_array, axis=0)\n",
        "print(img_array.shape)"
      ],
      "metadata": {
        "id": "S9tAbJ1SkRey",
        "colab": {
          "base_uri": "https://localhost:8080/"
        },
        "outputId": "544400ee-91bd-425d-80da-a6f63a9453a0"
      },
      "execution_count": null,
      "outputs": [
        {
          "output_type": "stream",
          "name": "stdout",
          "text": [
            "(32, 32, 3)\n",
            "(1, 32, 32, 3)\n"
          ]
        }
      ]
    },
    {
      "cell_type": "code",
      "source": [
        "predictions = model.predict(img_array)\n",
        "predicted_class_index = np.argmax(predictions)\n",
        "print(f\"Predicted class index: {predicted_class_index}\")"
      ],
      "metadata": {
        "id": "8Jv6Ix2RVlwQ",
        "colab": {
          "base_uri": "https://localhost:8080/"
        },
        "outputId": "1c40adcd-131d-44f3-f4b7-562349f77aa2"
      },
      "execution_count": null,
      "outputs": [
        {
          "output_type": "stream",
          "name": "stdout",
          "text": [
            "\u001b[1m1/1\u001b[0m \u001b[32m━━━━━━━━━━━━━━━━━━━━\u001b[0m\u001b[37m\u001b[0m \u001b[1m0s\u001b[0m 35ms/step\n",
            "Predicted class index: 2\n"
          ]
        }
      ]
    },
    {
      "cell_type": "code",
      "source": [
        "class_names = ['airplane', 'automobile', 'bird', 'cat', 'deer',\n",
        "               'dog', 'frog', 'horse', 'ship', 'truck']\n",
        "\n",
        "print(f\"Predicted label: {class_names[predicted_class_index]}\", )"
      ],
      "metadata": {
        "id": "ik_1m_MgVn7_",
        "colab": {
          "base_uri": "https://localhost:8080/"
        },
        "outputId": "c19559ad-958a-4c82-bd93-0d6a63bd8124"
      },
      "execution_count": null,
      "outputs": [
        {
          "output_type": "stream",
          "name": "stdout",
          "text": [
            "Predicted label: bird\n"
          ]
        }
      ]
    }
  ]
}