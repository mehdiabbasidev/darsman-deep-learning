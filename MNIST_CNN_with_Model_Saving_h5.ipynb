{
  "nbformat": 4,
  "nbformat_minor": 0,
  "metadata": {
    "colab": {
      "provenance": [],
      "gpuType": "T4",
      "authorship_tag": "ABX9TyN8PHPEjdKuufkd+l8vv3Up",
      "include_colab_link": true
    },
    "kernelspec": {
      "name": "python3",
      "display_name": "Python 3"
    },
    "language_info": {
      "name": "python"
    },
    "accelerator": "GPU"
  },
  "cells": [
    {
      "cell_type": "markdown",
      "metadata": {
        "id": "view-in-github",
        "colab_type": "text"
      },
      "source": [
        "<a href=\"https://colab.research.google.com/github/mehdiabbasidev/darsman-deep-learning/blob/main/MNIST_CNN_with_Model_Saving_h5.ipynb\" target=\"_parent\"><img src=\"https://colab.research.google.com/assets/colab-badge.svg\" alt=\"Open In Colab\"/></a>"
      ]
    },
    {
      "cell_type": "code",
      "source": [
        "import tensorflow as tf\n",
        "from tensorflow.keras.models import Sequential, load_model\n",
        "from tensorflow.keras.layers import Conv2D, MaxPooling2D, Flatten, Dense, Dropout\n",
        "from tensorflow.keras.datasets import mnist\n",
        "from tensorflow.keras.callbacks import ModelCheckpoint, EarlyStopping\n",
        "import numpy as np\n",
        "import matplotlib.pyplot as plt"
      ],
      "metadata": {
        "id": "N4sFWeioitdb"
      },
      "execution_count": null,
      "outputs": []
    },
    {
      "cell_type": "code",
      "source": [
        "(x_train, y_train), (x_test, y_test) = mnist.load_data()"
      ],
      "metadata": {
        "id": "UCvFCpfOhbam",
        "colab": {
          "base_uri": "https://localhost:8080/"
        },
        "outputId": "cf486c03-1400-4bbc-e057-0985acc2f080"
      },
      "execution_count": null,
      "outputs": [
        {
          "output_type": "stream",
          "name": "stdout",
          "text": [
            "Downloading data from https://storage.googleapis.com/tensorflow/tf-keras-datasets/mnist.npz\n",
            "\u001b[1m11490434/11490434\u001b[0m \u001b[32m━━━━━━━━━━━━━━━━━━━━\u001b[0m\u001b[37m\u001b[0m \u001b[1m1s\u001b[0m 0us/step\n"
          ]
        }
      ]
    },
    {
      "cell_type": "code",
      "source": [
        "x_train, x_test = x_train / 255.0, x_test / 255.0"
      ],
      "metadata": {
        "id": "OaUp15WfhdLG"
      },
      "execution_count": null,
      "outputs": []
    },
    {
      "cell_type": "code",
      "source": [
        "x_train = x_train.reshape(-1, 28, 28, 1)\n",
        "x_test = x_test.reshape(-1, 28, 28, 1)"
      ],
      "metadata": {
        "id": "nzZzsA_uhe4M"
      },
      "execution_count": null,
      "outputs": []
    },
    {
      "cell_type": "code",
      "source": [
        "def create_model():\n",
        "    model = Sequential([\n",
        "        Conv2D(32, (3,3), activation='relu', input_shape=(28, 28, 1)),\n",
        "        MaxPooling2D((2,2)),\n",
        "        Flatten(),\n",
        "        Dense(128, activation='relu'),\n",
        "        Dropout(0.5),\n",
        "        Dense(10, activation='softmax')\n",
        "    ])\n",
        "    model.compile(optimizer='adam', loss='sparse_categorical_crossentropy', metrics=['accuracy'])\n",
        "    return model\n",
        "\n",
        "model = create_model()"
      ],
      "metadata": {
        "id": "MrbLoeOphhaY",
        "colab": {
          "base_uri": "https://localhost:8080/"
        },
        "outputId": "97bf9c7b-dda8-4e1b-d318-dab4bd30ac91"
      },
      "execution_count": null,
      "outputs": [
        {
          "output_type": "stream",
          "name": "stderr",
          "text": [
            "/usr/local/lib/python3.11/dist-packages/keras/src/layers/convolutional/base_conv.py:107: UserWarning: Do not pass an `input_shape`/`input_dim` argument to a layer. When using Sequential models, prefer using an `Input(shape)` object as the first layer in the model instead.\n",
            "  super().__init__(activity_regularizer=activity_regularizer, **kwargs)\n"
          ]
        }
      ]
    },
    {
      "cell_type": "markdown",
      "source": [
        "###*.h5"
      ],
      "metadata": {
        "id": "dkFjhkOT4r9i"
      }
    },
    {
      "cell_type": "markdown",
      "source": [
        "\n",
        "####model.save('cifar10_model.h5')\n",
        "\n",
        "####model = load_model('cifar10_model.h5')\n",
        "\n",
        "####model.save_weights('cifar10_weights.h5')\n",
        "\n",
        "####model.load_weights('cifar10_weights.h5')\n",
        "\n",
        "####callbacks=[checkpoint, early_stopping]"
      ],
      "metadata": {
        "id": "qj85eVZE16Kb"
      }
    },
    {
      "cell_type": "code",
      "source": [
        "checkpoint = ModelCheckpoint(filepath=\"mnist_cnn.h5\",\n",
        "                             monitor=\"val_accuracy\",\n",
        "                             save_best_only=True,\n",
        "                             mode=\"max\",\n",
        "                             verbose=1)\n",
        "\n",
        "early_stopping = EarlyStopping(monitor=\"val_accuracy\",\n",
        "                               patience=3,\n",
        "                               restore_best_weights=True,\n",
        "                               verbose=1)\n",
        "\n",
        "history = model.fit(x_train, y_train,\n",
        "                    epochs=50,\n",
        "                    batch_size=64,\n",
        "                    validation_data=(x_test, y_test),\n",
        "                    callbacks=[checkpoint, early_stopping])"
      ],
      "metadata": {
        "id": "qvIcrjwhhqcC"
      },
      "execution_count": null,
      "outputs": []
    },
    {
      "cell_type": "code",
      "source": [
        "best_model = load_model(\"mnist_cnn.h5\")"
      ],
      "metadata": {
        "id": "abtXm7bVh_nP"
      },
      "execution_count": null,
      "outputs": []
    },
    {
      "cell_type": "code",
      "source": [
        "loss, acc = best_model.evaluate(x_test, y_test)\n",
        "print(f\"Model Accuracy : {acc:.4f}\")"
      ],
      "metadata": {
        "id": "D3GvEieeiKaC"
      },
      "execution_count": null,
      "outputs": []
    },
    {
      "cell_type": "code",
      "source": [
        "plt.plot(history.history['accuracy'], label='Training Accuracy')\n",
        "plt.plot(history.history['val_accuracy'], label='Validation Accuracy')\n",
        "plt.xlabel('Epochs')\n",
        "plt.ylabel('Accuracy')\n",
        "plt.legend()\n",
        "plt.show()"
      ],
      "metadata": {
        "id": "L6iwbQAAiLoe"
      },
      "execution_count": null,
      "outputs": []
    },
    {
      "cell_type": "code",
      "source": [
        "sample_image = np.expand_dims(x_test[0], axis=0)\n",
        "prediction = np.argmax(best_model.predict(sample_image))\n",
        "print(f\"🔍 Predicted number: {prediction}\")"
      ],
      "metadata": {
        "id": "QJeGEeWajNmz"
      },
      "execution_count": null,
      "outputs": []
    },
    {
      "cell_type": "code",
      "execution_count": null,
      "metadata": {
        "id": "T1oopROfhPrD"
      },
      "outputs": [],
      "source": [
        "plt.imshow(x_test[0].reshape(28, 28), cmap=\"gray\")\n",
        "plt.title(f\"🔍 Predicted number: {prediction}\")\n",
        "plt.axis(\"off\")\n",
        "plt.show()\n"
      ]
    }
  ]
}